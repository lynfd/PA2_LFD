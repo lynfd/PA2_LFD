{
 "cells": [
  {
   "cell_type": "markdown",
   "id": "8f61b32d",
   "metadata": {},
   "source": [
    "# Programming Assignment 2\n",
    "### Lyn Detwiler, CS-150-1, Version 3.3.2"
   ]
  },
  {
   "cell_type": "markdown",
   "id": "dfb62242",
   "metadata": {},
   "source": [
    "`append()` adds a new item to a list, specifically to the end of it"
   ]
  },
  {
   "cell_type": "code",
   "execution_count": 1,
   "id": "e3c7056d",
   "metadata": {},
   "outputs": [
    {
     "name": "stdout",
     "output_type": "stream",
     "text": [
      "['Sasha', 'Tim', 'Martin', 'Jon', 'Elias']\n"
     ]
    }
   ],
   "source": [
    "names=['Sasha','Tim','Martin','Jon','Elias']\n",
    "print(names)"
   ]
  },
  {
   "cell_type": "code",
   "execution_count": 2,
   "id": "457725c3",
   "metadata": {},
   "outputs": [
    {
     "name": "stdout",
     "output_type": "stream",
     "text": [
      "['Sasha', 'Tim', 'Martin', 'Jon', 'Elias', 'Melanie']\n"
     ]
    }
   ],
   "source": [
    "names.append('Melanie')\n",
    "print(names)"
   ]
  },
  {
   "cell_type": "markdown",
   "id": "01b69e7a",
   "metadata": {},
   "source": [
    "`extend()` adds elements of one list to another."
   ]
  },
  {
   "cell_type": "code",
   "execution_count": 3,
   "id": "3ea57026",
   "metadata": {},
   "outputs": [
    {
     "name": "stdout",
     "output_type": "stream",
     "text": [
      "['0122204', '0161704', '9961505']\n",
      "['0132306', '9970509']\n"
     ]
    }
   ],
   "source": [
    "cases=[\"0122204\",\"0161704\",\"9961505\"]\n",
    "cases2=[\"0132306\",\"9970509\"]\n",
    "print(cases)\n",
    "print(cases2)"
   ]
  },
  {
   "cell_type": "code",
   "execution_count": 4,
   "id": "683ed049",
   "metadata": {},
   "outputs": [
    {
     "name": "stdout",
     "output_type": "stream",
     "text": [
      "['0122204', '0161704', '9961505', '0132306', '9970509']\n"
     ]
    }
   ],
   "source": [
    "cases.extend(cases2)\n",
    "print(cases)"
   ]
  },
  {
   "cell_type": "markdown",
   "id": "7bfa0caa",
   "metadata": {},
   "source": [
    "`instert()` places a new item to the list at a specific index"
   ]
  },
  {
   "cell_type": "code",
   "execution_count": 5,
   "id": "1d4cca75",
   "metadata": {},
   "outputs": [
    {
     "name": "stdout",
     "output_type": "stream",
     "text": [
      "['lighter', 'box', 'taxidermy', 'calliope']\n"
     ]
    }
   ],
   "source": [
    "artifacts=[\"lighter\",\"box\",\"taxidermy\",\"calliope\"]\n",
    "print(artifacts)"
   ]
  },
  {
   "cell_type": "code",
   "execution_count": 6,
   "id": "2e06aa70",
   "metadata": {},
   "outputs": [
    {
     "name": "stdout",
     "output_type": "stream",
     "text": [
      "['lighter', 'box', 'hand mirror', 'taxidermy', 'calliope']\n"
     ]
    }
   ],
   "source": [
    "artifacts.insert(2,\"hand mirror\")\n",
    "print(artifacts)"
   ]
  },
  {
   "cell_type": "markdown",
   "id": "18bae500",
   "metadata": {},
   "source": [
    "`remove()` gets rid of the first matching element"
   ]
  },
  {
   "cell_type": "code",
   "execution_count": 7,
   "id": "bc79f5af",
   "metadata": {},
   "outputs": [
    {
     "name": "stdout",
     "output_type": "stream",
     "text": [
      "['0122204', '0161704', '9961505', '0132306', '9970509', '9980509']\n"
     ]
    }
   ],
   "source": [
    "cases.append(\"9980509\")\n",
    "print(cases)"
   ]
  },
  {
   "cell_type": "code",
   "execution_count": 8,
   "id": "76e66ad7",
   "metadata": {},
   "outputs": [
    {
     "name": "stdout",
     "output_type": "stream",
     "text": [
      "['0122204', '0161704', '9961505', '0132306', '9970509']\n"
     ]
    }
   ],
   "source": [
    "cases.remove(\"9980509\")\n",
    "print(cases)"
   ]
  },
  {
   "cell_type": "markdown",
   "id": "091da3d5",
   "metadata": {},
   "source": [
    "`count()` returns the amount of times an element appears in a list"
   ]
  },
  {
   "cell_type": "code",
   "execution_count": 9,
   "id": "2b2a9aef",
   "metadata": {},
   "outputs": [],
   "source": [
    "numbers=[80,17,125,70,4,12,43,162,158,17]"
   ]
  },
  {
   "cell_type": "code",
   "execution_count": 10,
   "id": "a2ae4763",
   "metadata": {},
   "outputs": [
    {
     "data": {
      "text/plain": [
       "2"
      ]
     },
     "execution_count": 10,
     "metadata": {},
     "output_type": "execute_result"
    }
   ],
   "source": [
    "numbers.count(17)"
   ]
  },
  {
   "cell_type": "markdown",
   "id": "27ad352c",
   "metadata": {},
   "source": [
    "`index()` outputs the index of the element requested."
   ]
  },
  {
   "cell_type": "code",
   "execution_count": 11,
   "id": "0481d162",
   "metadata": {},
   "outputs": [
    {
     "data": {
      "text/plain": [
       "3"
      ]
     },
     "execution_count": 11,
     "metadata": {},
     "output_type": "execute_result"
    }
   ],
   "source": [
    "artifacts.index(\"taxidermy\")"
   ]
  },
  {
   "cell_type": "markdown",
   "id": "930d5a0d",
   "metadata": {},
   "source": [
    "`pop()` removes item at the given index"
   ]
  },
  {
   "cell_type": "code",
   "execution_count": 12,
   "id": "7f14e792",
   "metadata": {},
   "outputs": [
    {
     "name": "stdout",
     "output_type": "stream",
     "text": [
      "['0122204', '0161704', '9961505', '0132306', '9970509']\n"
     ]
    }
   ],
   "source": [
    "print(cases)"
   ]
  },
  {
   "cell_type": "code",
   "execution_count": 13,
   "id": "0f6ef63b",
   "metadata": {},
   "outputs": [
    {
     "name": "stdout",
     "output_type": "stream",
     "text": [
      "Voided Case:  0132306\n",
      "Effective Cases:  ['0122204', '0161704', '9961505', '9970509']\n"
     ]
    }
   ],
   "source": [
    "removed_case=cases.pop(3)\n",
    "print(\"Voided Case: \", removed_case)\n",
    "print(\"Effective Cases: \", cases)"
   ]
  },
  {
   "cell_type": "markdown",
   "id": "4ead82a4",
   "metadata": {},
   "source": [
    "`sorted()` returns a list sorted by numerical or alphabetical values"
   ]
  },
  {
   "cell_type": "code",
   "execution_count": 14,
   "id": "52fadbc2",
   "metadata": {},
   "outputs": [
    {
     "data": {
      "text/plain": [
       "['0122204', '0161704', '9961505', '9970509']"
      ]
     },
     "execution_count": 14,
     "metadata": {},
     "output_type": "execute_result"
    }
   ],
   "source": [
    "sorted(cases)"
   ]
  },
  {
   "cell_type": "markdown",
   "id": "27b9ab04",
   "metadata": {},
   "source": [
    "`copy()` returns a copy of the list. Important to note that any modifications made to the original list will not show in the copy."
   ]
  },
  {
   "cell_type": "code",
   "execution_count": 15,
   "id": "739f9289",
   "metadata": {},
   "outputs": [
    {
     "name": "stdout",
     "output_type": "stream",
     "text": [
      "['Sasha', 'Tim', 'Martin', 'Jon', 'Elias', 'Melanie']\n",
      "['Sasha', 'Tim', 'Martin', 'Jon', 'Elias', 'Melanie']\n"
     ]
    }
   ],
   "source": [
    "current_names = names.copy()\n",
    "print(current_names)\n",
    "print(names)"
   ]
  },
  {
   "cell_type": "markdown",
   "id": "c264b083",
   "metadata": {},
   "source": [
    "`clear()` removes all elements from a given list"
   ]
  },
  {
   "cell_type": "code",
   "execution_count": 16,
   "id": "f046e6f4",
   "metadata": {},
   "outputs": [
    {
     "name": "stdout",
     "output_type": "stream",
     "text": [
      "['lighter', 'box', 'hand mirror', 'taxidermy', 'calliope']\n",
      "[]\n"
     ]
    }
   ],
   "source": [
    "print(artifacts)\n",
    "artifacts.clear()\n",
    "print(artifacts)"
   ]
  },
  {
   "cell_type": "markdown",
   "id": "e908327b",
   "metadata": {},
   "source": [
    "`list()` converts a string into a list"
   ]
  },
  {
   "cell_type": "code",
   "execution_count": 17,
   "id": "45825801",
   "metadata": {},
   "outputs": [],
   "source": [
    "title='TMA'"
   ]
  },
  {
   "cell_type": "code",
   "execution_count": 18,
   "id": "2e898a72",
   "metadata": {},
   "outputs": [
    {
     "data": {
      "text/plain": [
       "['T', 'M', 'A']"
      ]
     },
     "execution_count": 18,
     "metadata": {},
     "output_type": "execute_result"
    }
   ],
   "source": [
    "list(title)"
   ]
  },
  {
   "cell_type": "markdown",
   "id": "0484870c",
   "metadata": {},
   "source": [
    "`len()` outputs the amount of things in an object such as a list"
   ]
  },
  {
   "cell_type": "code",
   "execution_count": 20,
   "id": "295afc5b",
   "metadata": {},
   "outputs": [
    {
     "data": {
      "text/plain": [
       "6"
      ]
     },
     "execution_count": 20,
     "metadata": {},
     "output_type": "execute_result"
    }
   ],
   "source": [
    "len(names)"
   ]
  },
  {
   "cell_type": "markdown",
   "id": "a69a9609",
   "metadata": {},
   "source": [
    "`max()` returns the largest thing in an object."
   ]
  },
  {
   "cell_type": "code",
   "execution_count": 21,
   "id": "d49abd89",
   "metadata": {},
   "outputs": [
    {
     "data": {
      "text/plain": [
       "'9970509'"
      ]
     },
     "execution_count": 21,
     "metadata": {},
     "output_type": "execute_result"
    }
   ],
   "source": [
    "max(cases)"
   ]
  },
  {
   "cell_type": "markdown",
   "id": "84b342cc",
   "metadata": {},
   "source": [
    "`min()` returns the smallest thing in an object"
   ]
  },
  {
   "cell_type": "code",
   "execution_count": 22,
   "id": "607e1a11",
   "metadata": {},
   "outputs": [
    {
     "data": {
      "text/plain": [
       "'0122204'"
      ]
     },
     "execution_count": 22,
     "metadata": {},
     "output_type": "execute_result"
    }
   ],
   "source": [
    "min(cases)"
   ]
  }
 ],
 "metadata": {
  "kernelspec": {
   "display_name": "Python 3 (ipykernel)",
   "language": "python",
   "name": "python3"
  },
  "language_info": {
   "codemirror_mode": {
    "name": "ipython",
    "version": 3
   },
   "file_extension": ".py",
   "mimetype": "text/x-python",
   "name": "python",
   "nbconvert_exporter": "python",
   "pygments_lexer": "ipython3",
   "version": "3.9.12"
  }
 },
 "nbformat": 4,
 "nbformat_minor": 5
}
